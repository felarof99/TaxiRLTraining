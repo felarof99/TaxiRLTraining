{
 "cells": [
  {
   "cell_type": "markdown",
   "metadata": {},
   "source": [
    "# TaxiRL Training"
   ]
  },
  {
   "cell_type": "markdown",
   "metadata": {},
   "source": [
    "## Overview of code structure:\n",
    "- **dltrainer**\n",
    "Contains Dockerfile and kubernetes deoployment file for PyTorch trainer.\n",
    "\n",
    "- **cache-server**\n",
    "Contains Dockerfile and kubernetes deployment file for NGINX cache-server.\n",
    "\n",
    "- **ku** script:\n",
    "Contains commands to setup kubernetes cluster on Google Cloud\n",
    "\n",
    "- **kuber-cluster-config.sh** script:\n",
    "Contains parameters that can be configured to customize the kubernetes setup"
   ]
  },
  {
   "cell_type": "markdown",
   "metadata": {},
   "source": [
    "## Initial setup\n",
    "Before proceeding, please ensure you have following packages installed locally; follow instructions available online.\n",
    "1. Docker\n",
    "1. Google Cloud SDK: After installing Google Cloud SDK, run `gcloud init`\n"
   ]
  },
  {
   "cell_type": "markdown",
   "metadata": {},
   "source": [
    "## Kubernetes cluster setup:\n",
    "1. Set parameters in `kube-cluster-config.sh`\n",
    "2. Call `./ku init`. Please don't kill the execution inbetween. The command does the following:\n",
    "    - Creates a kubernetes clusters\n",
    "    - Creates a GPU node-pool with each node containing requested number of GPUs\n",
    "    - Install cache-server and deploys it into the cluster"
   ]
  },
  {
   "cell_type": "markdown",
   "metadata": {},
   "source": [
    "## Deploying PyTorch trainer on Kubernetes cluster:\n",
    "Change to dltrainer folder.\n",
    "1. Three important files are\n",
    "    - train.py: PyTorch trainer\n",
    "    - model.py: Neural Network model\n",
    "    - dataset.py: Dataset loader. This file also serves as an example to fetch data using dlinputs library.\n",
    "2. Build the docker image   \n",
    "`docker build -t name_of_your_docker_image .`\n",
    "3. Tag docker image   \n",
    "`docker tag name_of_your_docker_image gcr.io/$GCLOUD_PROJECT_NAME/name_of_your_docker_image:v1` \n",
    "4. Upload docker image to a cloud repository.     \n",
    "`gcloud docker -- push gcr.io/$GCLOUD_PROJECT_NAME/name_of_your_docker_image:v1`\n",
    "5. Configure location of your image in trainer-job.yml\n",
    "6. Configure other parameters required for your training job in `trainer-deploy.yml` - type of GPUs, number of GPUs.\n",
    "\n",
    "7. Deploy your job   \n",
    "`kubectl create -f trainer-job.yml`"
   ]
  }
 ],
 "metadata": {
  "kernelspec": {
   "display_name": "Python 2",
   "language": "python",
   "name": "python2"
  },
  "language_info": {
   "codemirror_mode": {
    "name": "ipython",
    "version": 2
   },
   "file_extension": ".py",
   "mimetype": "text/x-python",
   "name": "python",
   "nbconvert_exporter": "python",
   "pygments_lexer": "ipython2",
   "version": "2.7.15"
  }
 },
 "nbformat": 4,
 "nbformat_minor": 2
}
